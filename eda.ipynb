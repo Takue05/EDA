{
 "cells": [
  {
   "cell_type": "markdown",
   "metadata": {},
   "source": [
    "## EDA ##\n",
    "1. data sourcing\n",
    "2. data cleaning \n",
    "3. univariate analysis\n",
    "4. bivariate analysis\n",
    "5. derived metrics\n",
    "\n"
   ]
  },
  {
   "cell_type": "code",
   "execution_count": 34,
   "metadata": {},
   "outputs": [],
   "source": [
    "import pandas as pd\n",
    "import numpy as np\n",
    "import matplotlib.pyplot as plt"
   ]
  },
  {
   "cell_type": "markdown",
   "metadata": {},
   "source": [
    "\n",
    "loading dataset"
   ]
  },
  {
   "cell_type": "code",
   "execution_count": null,
   "metadata": {},
   "outputs": [],
   "source": [
    "data_source =pd.read_csv(\"./dataset.csv\")"
   ]
  },
  {
   "cell_type": "code",
   "execution_count": null,
   "metadata": {},
   "outputs": [],
   "source": [
    "#understanding the data\n",
    "data_source.head()"
   ]
  },
  {
   "cell_type": "code",
   "execution_count": null,
   "metadata": {},
   "outputs": [],
   "source": [
    "data_source.tail()"
   ]
  },
  {
   "cell_type": "code",
   "execution_count": null,
   "metadata": {},
   "outputs": [],
   "source": [
    "data_source.shape"
   ]
  },
  {
   "cell_type": "code",
   "execution_count": null,
   "metadata": {},
   "outputs": [],
   "source": [
    "data_source.describe()"
   ]
  },
  {
   "cell_type": "code",
   "execution_count": null,
   "metadata": {},
   "outputs": [],
   "source": [
    "data_source.columns"
   ]
  },
  {
   "cell_type": "code",
   "execution_count": null,
   "metadata": {},
   "outputs": [],
   "source": [
    "data_source['gender'].unique()"
   ]
  },
  {
   "cell_type": "code",
   "execution_count": null,
   "metadata": {},
   "outputs": [],
   "source": [
    "data_source.nunique"
   ]
  },
  {
   "cell_type": "markdown",
   "metadata": {},
   "source": [
    "# data cleaning #\n"
   ]
  },
  {
   "cell_type": "markdown",
   "metadata": {},
   "source": [
    "handling some missing values"
   ]
  },
  {
   "cell_type": "code",
   "execution_count": null,
   "metadata": {},
   "outputs": [],
   "source": [
    "data_source.isnull().sum()"
   ]
  },
  {
   "cell_type": "code",
   "execution_count": null,
   "metadata": {},
   "outputs": [],
   "source": [
    "data_source.dropna()"
   ]
  },
  {
   "cell_type": "code",
   "execution_count": null,
   "metadata": {},
   "outputs": [],
   "source": [
    "# Check for missing values before replacing\n",
    "print(data_source.isnull().sum())\n",
    "\n"
   ]
  },
  {
   "cell_type": "code",
   "execution_count": 28,
   "metadata": {},
   "outputs": [],
   "source": [
    "# Replace NaN with the mean in the 'MonthlyCharges' column\n",
    "data_source['MonthlyCharges'] = data_source['MonthlyCharges'].fillna(data_source['MonthlyCharges'].mean())\n"
   ]
  },
  {
   "cell_type": "code",
   "execution_count": null,
   "metadata": {},
   "outputs": [],
   "source": [
    "# After replacing, verify again\n",
    "print(data_source.isnull().sum())"
   ]
  },
  {
   "cell_type": "code",
   "execution_count": null,
   "metadata": {},
   "outputs": [],
   "source": [
    "\n",
    "#To replace missing values (NaN) in categorical data with the mode (the most frequent value), you can use pandas' fillna() method along with the mode() function.\n",
    "\n",
    "#Steps to Replace NaN with the Mode\n",
    "# Replace NaN with the mode in the 'gender' column\n",
    "data_source['gender'] = data_source['gender'].fillna(data_source['gender'].mode()[0])\n",
    "\n",
    "#2. Replace Missing Values in All Categorical Columns\n",
    "#To replace missing values in all categorical columns, you can loop through them or filter the DataFrame for categorical columns:\n",
    "# Replace NaN with the mode for all categorical columns\n",
    "categorical_columns = data_source.select_dtypes(include=['object']).columns\n",
    "for col in categorical_columns:\n",
    "    data_source[col] = data_source[col].fillna(data_source[col].mode()[0])\n",
    "#3. Check for Missing Values\n",
    "#Before and after replacing, check for missing values:\n",
    "# Check for missing values\n",
    "print(data_source.isnull().sum())\n",
    "# Check for missing values\n",
    "print(\"Missing values before:\\n\", data_source.isnull().sum())\n",
    "\n",
    "# Replace NaN in numeric columns with mean\n",
    "data_source = data_source.fillna(data_source.select_dtypes(include=['TotalCharges']).mean())\n",
    "\n",
    "# Replace NaN in categorical columns with mode\n",
    "categorical_columns = data_source.select_dtypes(include=['object']).columns\n",
    "for col in categorical_columns:\n",
    "    data_source[col] = data_source[col].fillna(data_source[col].mode()[0])\n",
    "\n",
    "# Check for missing values after replacement\n",
    "print(\"\\nMissing values after:\\n\", data_source.isnull().sum())\n",
    "\n",
    "# Print updated DataFrame\n",
    "print(\"\\nUpdated DataFrame:\\n\", data_source)"
   ]
  },
  {
   "cell_type": "code",
   "execution_count": null,
   "metadata": {},
   "outputs": [],
   "source": [
    "data = data_source.drop(['customerID'], axis= 1)\n",
    "data.head()"
   ]
  },
  {
   "cell_type": "markdown",
   "metadata": {},
   "source": [
    "outlier treatment"
   ]
  },
  {
   "cell_type": "code",
   "execution_count": null,
   "metadata": {},
   "outputs": [],
   "source": [
    "outliers = data_source[data_source['MonthlyCharges'] > 200]  # Example threshold\n",
    "print(\"Outliers:\\n\", outliers)"
   ]
  },
  {
   "cell_type": "code",
   "execution_count": null,
   "metadata": {},
   "outputs": [],
   "source": [
    "# Calculate Z-scores for each value in the 'MonthlyCharges' column\n",
    "z_scores = (data_source['MonthlyCharges'] - data_source['MonthlyCharges'].mean()) / data_source['MonthlyCharges'].std()\n",
    "\n",
    "# Identify outliers\n",
    "outliers = data_source[np.abs(z_scores) > 3]\n",
    "print(\"Outliers:\\n\", outliers)\n",
    "\n",
    "# Remove outliers where Z-score > 3 or < -3\n",
    "filtered_data = data_source[np.abs(z_scores) <= 3]\n",
    "\n",
    "# Print the result\n",
    "print(\"Original Data:\\n\", data_source)\n",
    "print(\"\\nFiltered Data (Outliers Removed):\\n\", filtered_data)"
   ]
  },
  {
   "cell_type": "code",
   "execution_count": null,
   "metadata": {},
   "outputs": [],
   "source": [
    "# Calculate Q1 (25th percentile) and Q3 (75th percentile)\n",
    "Q1 = data_source['MonthlyCharges'].quantile(0.25)\n",
    "Q3 = data_source['MonthlyCharges'].quantile(0.75)\n",
    "IQR = Q3 - Q1\n",
    "\n",
    "# Define outlier bounds\n",
    "lower_bound = Q1 - 1.5 * IQR\n",
    "upper_bound = Q3 + 1.5 * IQR\n",
    "\n",
    "# Identify outliers\n",
    "outliers = data_source[(data_source['MonthlyCharges'] < lower_bound) | (data_source['MonthlyCharges'] > upper_bound)]\n",
    "print(\"Outliers:\\n\", outliers)\n",
    "\n",
    "filtered_data = data_source[(data_source['MonthlyCharges'] >= lower_bound) & \n",
    "                            (data_source['MonthlyCharges'] <= upper_bound)]\n",
    "\n",
    "# Print the result\n",
    "print(\"Original Data:\\n\", data_source)\n",
    "print(\"\\nFiltered Data (Outliers Removed):\\n\", filtered_data)\n"
   ]
  },
  {
   "cell_type": "code",
   "execution_count": null,
   "metadata": {},
   "outputs": [],
   "source": [
    "import matplotlib.pyplot as plt\n",
    "\n",
    "# Plot boxplot for 'MonthlyCharges'\n",
    "plt.boxplot(data_source['MonthlyCharges'], vert=False)\n",
    "plt.title('Box Plot for MonthlyCharges')\n",
    "plt.show()\n"
   ]
  },
  {
   "cell_type": "code",
   "execution_count": null,
   "metadata": {},
   "outputs": [],
   "source": [
    "# Scatter plot to visualize outliers\n",
    "plt.scatter(data_source.index, data_source['MonthlyCharges'])\n",
    "plt.title('Scatter Plot of MonthlyCharges')\n",
    "plt.xlabel('Index')\n",
    "plt.ylabel('MonthlyCharges')\n",
    "plt.show()\n"
   ]
  },
  {
   "cell_type": "markdown",
   "metadata": {},
   "source": [
    "handling invalid value"
   ]
  },
  {
   "cell_type": "code",
   "execution_count": null,
   "metadata": {},
   "outputs": [],
   "source": [
    "# Function to check validity\n",
    "def validate_data(data):\n",
    "    errors = []\n",
    "    \n",
    "    # Example: Check for negative values\n",
    "    if (data['MonthlyCharges'] < 0).any():\n",
    "        errors.append(\"Negative values found in 'MonthlyCharges'\")\n",
    "        \n",
    "    # Example: Check for invalid categories\n",
    "    if not set(data['PaymentMethod'].unique()).issubset({'Credit Card', 'Cash', 'Online'}):\n",
    "        errors.append(\"Unexpected values in 'PaymentMethod'\")\n",
    "    \n",
    "    return errors\n",
    "\n",
    "# Run validation\n",
    "validation_errors = validate_data(data_source)\n",
    "print(\"Validation Errors:\", validation_errors)\n"
   ]
  },
  {
   "cell_type": "code",
   "execution_count": null,
   "metadata": {},
   "outputs": [],
   "source": [
    "# Remove duplicate rows\n",
    "data_source = data_source.drop_duplicates()\n",
    "\n"
   ]
  },
  {
   "cell_type": "code",
   "execution_count": null,
   "metadata": {},
   "outputs": [],
   "source": [
    "# Example: Replace inconsistent labels\n",
    "data_source['gender'] = data_source['gender'].str.strip().str.lower()\n",
    "data_source['gender'].replace({'male': 'M', 'female': 'F'}, inplace=True)"
   ]
  },
  {
   "cell_type": "code",
   "execution_count": null,
   "metadata": {},
   "outputs": [],
   "source": [
    "# Convert 'date_column' to datetime, mark invalid dates as NaT\n",
    "data_source['date_column'] = pd.to_datetime(data_source['date_column'], errors='coerce')\n"
   ]
  },
  {
   "cell_type": "markdown",
   "metadata": {},
   "source": [
    "univariate analysis\n"
   ]
  },
  {
   "cell_type": "code",
   "execution_count": null,
   "metadata": {},
   "outputs": [],
   "source": [
    "# Summary statistics for numerical variables\n",
    "print(data_source.describe())\n"
   ]
  },
  {
   "cell_type": "code",
   "execution_count": null,
   "metadata": {},
   "outputs": [],
   "source": [
    "# Frequency counts for categorical variables\n",
    "print(data_source['PaymentMethod'].value_counts())\n"
   ]
  },
  {
   "cell_type": "code",
   "execution_count": null,
   "metadata": {},
   "outputs": [],
   "source": [
    "import matplotlib.pyplot as plt\n",
    "data_source['MonthlyCharges'].hist(bins=30, edgecolor='black')\n",
    "plt.title('Distribution of Monthly Charges')\n",
    "plt.xlabel('Monthly Charges')\n",
    "plt.ylabel('Frequency')\n",
    "plt.show()\n"
   ]
  },
  {
   "cell_type": "code",
   "execution_count": null,
   "metadata": {},
   "outputs": [],
   "source": [
    "data_source.boxplot(column='MonthlyCharges')\n",
    "plt.title('Box Plot of Monthly Charges')\n",
    "plt.show()\n"
   ]
  },
  {
   "cell_type": "code",
   "execution_count": null,
   "metadata": {},
   "outputs": [],
   "source": [
    "data_source['PaymentMethod'].value_counts().plot(kind='bar')\n",
    "plt.title('Frequency of Payment Methods')\n",
    "plt.xlabel('Payment Method')\n",
    "plt.ylabel('Count')\n",
    "plt.show()\n"
   ]
  },
  {
   "cell_type": "code",
   "execution_count": null,
   "metadata": {},
   "outputs": [],
   "source": [
    "Q1 = data_source['MonthlyCharges'].quantile(0.25)\n",
    "Q3 = data_source['MonthlyCharges'].quantile(0.75)\n",
    "IQR = Q3 - Q1\n",
    "lower_bound = Q1 - 1.5 * IQR\n",
    "upper_bound = Q3 + 1.5 * IQR\n",
    "\n",
    "outliers = data_source[(data_source['MonthlyCharges'] < lower_bound) | (data_source['MonthlyCharges'] > upper_bound)]\n",
    "print(outliers)\n"
   ]
  },
  {
   "cell_type": "code",
   "execution_count": null,
   "metadata": {},
   "outputs": [],
   "source": [
    "import seaborn as sns\n",
    "\n",
    "# Plot original data\n",
    "sns.histplot(data_source['MonthlyCharges'], kde=True)\n",
    "plt.title('Original Distribution of Monthly Charges')\n",
    "plt.show()\n",
    "\n",
    "# After transformation (e.g., log)\n",
    "sns.histplot(np.log1p(data_source['MonthlyCharges']), kde=True)\n",
    "plt.title('Transformed Distribution of Monthly Charges')\n",
    "plt.show()\n"
   ]
  },
  {
   "cell_type": "code",
   "execution_count": null,
   "metadata": {},
   "outputs": [],
   "source": [
    "print(data_source['PaymentMethod'].value_counts().sort_values(ascending=False))\n"
   ]
  },
  {
   "cell_type": "code",
   "execution_count": null,
   "metadata": {},
   "outputs": [],
   "source": [
    "\n",
    "print(data_source['PaymentMethod'].value_counts(dropna=False))\n"
   ]
  },
  {
   "cell_type": "code",
   "execution_count": null,
   "metadata": {},
   "outputs": [],
   "source": [
    "print(data_source['PaymentMethod'].value_counts(normalize=True))\n"
   ]
  },
  {
   "cell_type": "markdown",
   "metadata": {},
   "source": [
    "bivariate analysis"
   ]
  },
  {
   "cell_type": "markdown",
   "metadata": {},
   "source": [
    "Common Techniques for Bivariate Analysis:\n",
    "Numerical vs Numerical:\n",
    "\n",
    "Pearson's Correlation: Quantifies the linear relationship.\n",
    "Scatter Plot: Visualizes the relationship between two continuous variables.\n",
    "Line Plot: If one variable is time-based, you can use a line plot.\n",
    "pair plot\n",
    "heat map\n",
    "\n",
    "\n",
    "Categorical vs Categorical:\n",
    "\n",
    "Crosstab / Contingency Table: Shows the frequency distribution of the two categorical variables.\n",
    "Stacked Bar Plot: Visualizes how one categorical variable is distributed across another.\n",
    "\n",
    "\n",
    "Numerical vs Categorical:\n",
    "\n",
    "Box Plot: Compares the distribution of numerical data across different categories.\n",
    "Violin Plot: Similar to a box plot, but with a smoothed distribution.\n",
    "Bar Plot: To show the average of the numerical variable for each category.\n",
    "facet grid\n"
   ]
  },
  {
   "cell_type": "code",
   "execution_count": null,
   "metadata": {},
   "outputs": [],
   "source": [
    "# FacetGrid to visualize MonthlyCharges by PaymentMethod for each Churn status\n",
    "g = sns.FacetGrid(data_source, col='Churn', height=5)\n",
    "g.map(sns.histplot, 'MonthlyCharges', kde=True)\n",
    "g.set_axis_labels('Monthly Charges', 'Frequency')\n",
    "g.set_titles('Churn: {col_name}')\n",
    "plt.show()\n"
   ]
  },
  {
   "cell_type": "code",
   "execution_count": null,
   "metadata": {},
   "outputs": [],
   "source": [
    "correlation_matrix = data.corr()\n",
    "print(correlation_matrix['MonthlyCharges'])  # Shows correlation between 'MonthlyCharges' and other numerical features\n"
   ]
  },
  {
   "cell_type": "code",
   "execution_count": null,
   "metadata": {},
   "outputs": [],
   "source": [
    "from sklearn.preprocessing import LabelEncoder\n",
    "\n",
    "\n",
    "# Step 1: Identify non-numeric columns\n",
    "non_numeric_columns = data_source.select_dtypes(exclude=['number']).columns\n",
    "print(\"Non-numeric columns:\", non_numeric_columns)\n",
    "\n",
    "# Step 2: Drop non-numeric columns or convert them to numeric\n",
    "data_numeric = data_source.select_dtypes(include=['number'])\n",
    "\n",
    "# Step 3: If necessary, convert categorical columns to numeric\n",
    "label_encoder = LabelEncoder()\n",
    "data_source['PaymentMethod'] = label_encoder.fit_transform(data_source['PaymentMethod'])\n",
    "\n",
    "# Step 4: Compute the correlation matrix on the numeric data\n",
    "correlation_matrix = data_numeric.corr()\n",
    "print(correlation_matrix)\n"
   ]
  },
  {
   "cell_type": "code",
   "execution_count": 51,
   "metadata": {},
   "outputs": [],
   "source": [
    "import pandas as pd\n",
    "import seaborn as sns\n",
    "import matplotlib.pyplot as plt\n",
    "from scipy.stats import chi2_contingency"
   ]
  },
  {
   "cell_type": "code",
   "execution_count": null,
   "metadata": {},
   "outputs": [],
   "source": [
    "# Plotting the heatmap of correlation matrix\n",
    "plt.figure(figsize=(10, 8))\n",
    "sns.heatmap(correlation_matrix, annot=True, cmap='coolwarm', fmt='.2f')\n",
    "plt.title('Correlation Heatmap')\n",
    "plt.show()"
   ]
  },
  {
   "cell_type": "code",
   "execution_count": null,
   "metadata": {},
   "outputs": [],
   "source": [
    "# 2. Scatter Plot for numerical variables\n",
    "sns.scatterplot(x='MonthlyCharges', y='TotalCharges', data=data_source)\n",
    "plt.title('Scatter Plot: Monthly Charges vs Total Charges')\n",
    "plt.xlabel('Monthly Charges')\n",
    "plt.ylabel('Total Charges')\n",
    "plt.show()"
   ]
  },
  {
   "cell_type": "code",
   "execution_count": null,
   "metadata": {},
   "outputs": [],
   "source": [
    "# 3. Crosstab for categorical variables\n",
    "crosstab = pd.crosstab(data_source['PaymentMethod'], data_source['Churn'])\n",
    "print(crosstab)"
   ]
  },
  {
   "cell_type": "code",
   "execution_count": null,
   "metadata": {},
   "outputs": [],
   "source": [
    "# Stacked bar plot for categorical vs categorical\n",
    "crosstab.plot(kind='bar', stacked=True)\n",
    "plt.title('Payment Method vs Churn')\n",
    "plt.xlabel('Payment Method')\n",
    "plt.ylabel('Frequency')\n",
    "plt.show()"
   ]
  },
  {
   "cell_type": "code",
   "execution_count": null,
   "metadata": {},
   "outputs": [],
   "source": [
    "# 4. Box Plot for numerical vs categorical\n",
    "sns.boxplot(x='Churn', y='MonthlyCharges', data=data_source)\n",
    "plt.title('Monthly Charges by Churn Status')\n",
    "plt.show()"
   ]
  },
  {
   "cell_type": "code",
   "execution_count": null,
   "metadata": {},
   "outputs": [],
   "source": [
    "\n",
    "\n",
    "# 5. Chi-Square Test for categorical variables\n",
    "crosstab_churn = pd.crosstab(data_source['PaymentMethod'], data_source['Churn'])\n",
    "chi2, p, dof, expected = chi2_contingency(crosstab_churn)\n",
    "print(f\"Chi-Square Statistic: {chi2}\")\n",
    "print(f\"P-value: {p}\")\n",
    "\n"
   ]
  },
  {
   "cell_type": "code",
   "execution_count": null,
   "metadata": {},
   "outputs": [],
   "source": [
    "sns.pairplot(data_source[['MonthlyCharges', 'TotalCharges', 'tenure']])\n",
    "plt.show()\n"
   ]
  },
  {
   "cell_type": "code",
   "execution_count": null,
   "metadata": {},
   "outputs": [],
   "source": [
    "sns.violinplot(x='Churn', y='MonthlyCharges', data=data_source)\n",
    "plt.title('Violin Plot: Monthly Charges by Churn')\n",
    "plt.show()"
   ]
  },
  {
   "cell_type": "code",
   "execution_count": null,
   "metadata": {},
   "outputs": [],
   "source": [
    "plt.figure(figsize=(10, 8))\n",
    "sns.heatmap(correlation_matrix, annot=True, cmap='coolwarm', fmt='.2f')\n",
    "plt.title('Correlation Heatmap')\n",
    "plt.show()"
   ]
  },
  {
   "cell_type": "code",
   "execution_count": null,
   "metadata": {},
   "outputs": [],
   "source": [
    "crosstab.plot(kind='bar', stacked=True)\n",
    "plt.title('Payment Method vs Churn')\n",
    "plt.xlabel('Payment Method')\n",
    "plt.ylabel('Frequency')\n",
    "plt.show()\n"
   ]
  },
  {
   "cell_type": "code",
   "execution_count": null,
   "metadata": {},
   "outputs": [],
   "source": [
    "# Countplot for 'PaymentMethod' to see the distribution of each category\n",
    "sns.countplot(x='PaymentMethod', data=data_source)\n",
    "plt.title('Count of Payment Method Categories')\n",
    "plt.xlabel('Payment Method')\n",
    "plt.ylabel('Count')\n",
    "plt.show()\n"
   ]
  },
  {
   "cell_type": "code",
   "execution_count": null,
   "metadata": {},
   "outputs": [],
   "source": [
    "# KDE Plot for 'MonthlyCharges'\n",
    "sns.kdeplot(data_source['MonthlyCharges'], shade=True)\n",
    "plt.title('KDE of Monthly Charges')\n",
    "plt.xlabel('Monthly Charges')\n",
    "plt.ylabel('Density')\n",
    "plt.show()\n"
   ]
  },
  {
   "cell_type": "code",
   "execution_count": null,
   "metadata": {},
   "outputs": [],
   "source": [
    "# Descriptive statistics for 'MonthlyCharges'\n",
    "print(data_source['MonthlyCharges'].describe())\n"
   ]
  },
  {
   "cell_type": "code",
   "execution_count": null,
   "metadata": {},
   "outputs": [],
   "source": [
    "# Pie chart for 'PaymentMethod'\n",
    "payment_method_counts = data_source['PaymentMethod'].value_counts()\n",
    "payment_method_counts.plot.pie(autopct='%1.1f%%', startangle=90, cmap='Set3', figsize=(6,6))\n",
    "plt.title('Distribution of Payment Methods')\n",
    "plt.ylabel('')\n",
    "plt.show()\n"
   ]
  },
  {
   "cell_type": "code",
   "execution_count": 73,
   "metadata": {},
   "outputs": [],
   "source": [
    "# Convert 'MonthlyCharges' and 'TotalCharges' to numeric, coercing errors to NaN\n",
    "data_source['MonthlyCharges'] = pd.to_numeric(data_source['MonthlyCharges'], errors='coerce')\n",
    "data_source['TotalCharges'] = pd.to_numeric(data_source['TotalCharges'], errors='coerce')\n"
   ]
  },
  {
   "cell_type": "code",
   "execution_count": 74,
   "metadata": {},
   "outputs": [
    {
     "name": "stdout",
     "output_type": "stream",
     "text": [
      "                MonthlyCharges  TotalCharges\n",
      "MonthlyCharges      905.410934  4.440133e+04\n",
      "TotalCharges      44401.333073  5.138252e+06\n"
     ]
    }
   ],
   "source": [
    "covariance = data_source[['MonthlyCharges', 'TotalCharges']].cov()\n",
    "print(covariance)\n"
   ]
  }
 ],
 "metadata": {
  "kernelspec": {
   "display_name": "Python 3",
   "language": "python",
   "name": "python3"
  },
  "language_info": {
   "codemirror_mode": {
    "name": "ipython",
    "version": 3
   },
   "file_extension": ".py",
   "mimetype": "text/x-python",
   "name": "python",
   "nbconvert_exporter": "python",
   "pygments_lexer": "ipython3",
   "version": "3.10.12"
  }
 },
 "nbformat": 4,
 "nbformat_minor": 2
}
